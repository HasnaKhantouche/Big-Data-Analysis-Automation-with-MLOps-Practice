{
 "cells": [
  {
   "cell_type": "code",
   "execution_count": 1,
   "id": "b133a8ba-36cc-45d4-b28d-e2f0b0ea9a4b",
   "metadata": {},
   "outputs": [],
   "source": [
    "from pyspark.sql import SparkSession\n"
   ]
  },
  {
   "cell_type": "code",
   "execution_count": 2,
   "id": "9a24ee1e-481c-4e6a-b6b0-2c87e76ecd11",
   "metadata": {},
   "outputs": [],
   "source": [
    "spark = SparkSession.builder.appName(\"Covid19Analysis\").getOrCreate()\n"
   ]
  },
  {
   "cell_type": "code",
   "execution_count": 3,
   "id": "ef3c6ec1-684e-40ec-872d-f09b765a1fc3",
   "metadata": {},
   "outputs": [],
   "source": [
    "# Load the CSV data into a DataFrame\n",
    "df = spark.read.csv(\"/home/jovyan/work/worldometer_data.csv\", header=True, inferSchema=True)"
   ]
  },
  {
   "cell_type": "code",
   "execution_count": 4,
   "id": "e7c7da5f-338c-4a0d-8547-f3a1118dbb85",
   "metadata": {},
   "outputs": [
    {
     "name": "stdout",
     "output_type": "stream",
     "text": [
      "+--------------+-------------+----------+----------+--------+-----------+---------+--------------+------------+-----------+----------------+----------------+-------------+----------+------------+--------------+\n",
      "|Country/Region|    Continent|Population|TotalCases|NewCases|TotalDeaths|NewDeaths|TotalRecovered|NewRecovered|ActiveCases|Serious,Critical|Tot Cases/1M pop|Deaths/1M pop|TotalTests|Tests/1M pop|    WHO Region|\n",
      "+--------------+-------------+----------+----------+--------+-----------+---------+--------------+------------+-----------+----------------+----------------+-------------+----------+------------+--------------+\n",
      "|           USA|North America| 331198130|   5032179|    NULL|     162804|     NULL|       2576668|        NULL|    2292707|           18296|           15194|        492.0|  63139605|      190640|      Americas|\n",
      "|        Brazil|South America| 212710692|   2917562|    NULL|      98644|     NULL|       2047660|        NULL|     771258|            8318|           13716|        464.0|  13206188|       62085|      Americas|\n",
      "|         India|         Asia|1381344997|   2025409|    NULL|      41638|     NULL|       1377384|        NULL|     606387|            8944|            1466|         30.0|  22149351|       16035|South-EastAsia|\n",
      "|        Russia|       Europe| 145940924|    871894|    NULL|      14606|     NULL|        676357|        NULL|     180931|            2300|            5974|        100.0|  29716907|      203623|        Europe|\n",
      "|  South Africa|       Africa|  59381566|    538184|    NULL|       9604|     NULL|        387316|        NULL|     141264|             539|            9063|        162.0|   3149807|       53044|        Africa|\n",
      "+--------------+-------------+----------+----------+--------+-----------+---------+--------------+------------+-----------+----------------+----------------+-------------+----------+------------+--------------+\n",
      "only showing top 5 rows\n",
      "\n"
     ]
    }
   ],
   "source": [
    "df.show(5)"
   ]
  },
  {
   "cell_type": "code",
   "execution_count": 5,
   "id": "89274f0f-0c1b-4221-af8f-d63bfab04c1e",
   "metadata": {},
   "outputs": [
    {
     "name": "stdout",
     "output_type": "stream",
     "text": [
      "+-------+--------------+-------------+--------------------+----------------+------------------+------------------+-----------------+------------------+-----------------+------------------+------------------+------------------+-----------------+------------------+------------------+--------------+\n",
      "|summary|Country/Region|    Continent|          Population|      TotalCases|          NewCases|       TotalDeaths|        NewDeaths|    TotalRecovered|     NewRecovered|       ActiveCases|  Serious,Critical|  Tot Cases/1M pop|    Deaths/1M pop|        TotalTests|      Tests/1M pop|    WHO Region|\n",
      "+-------+--------------+-------------+--------------------+----------------+------------------+------------------+-----------------+------------------+-----------------+------------------+------------------+------------------+-----------------+------------------+------------------+--------------+\n",
      "|  count|           209|          208|                 208|             209|                 4|               188|                3|               205|                3|               205|               122|               208|              187|               191|               191|           184|\n",
      "|   mean|          NULL|         NULL|3.0415486971153848E7|91718.4976076555|            1980.5| 3792.590425531915|            300.0|58878.980487804874|           1706.0| 27664.32682926829| 534.3934426229508|3196.0240384615386|98.68117647058823|1402404.7015706806|  83959.3664921466|          NULL|\n",
      "| stddev|          NULL|         NULL|1.0476609948117347E8|432586.680941832|3129.6114242293193|15487.184877168187|451.1995124110841|256698.40689837997|2154.779803135346|174632.73692792188|2047.5186133519674| 5191.986456701241|174.9568620893644|  5553366.67043168|152730.59123995784|          NULL|\n",
      "|    min|   Afghanistan|       Africa|                 801|              10|                20|                 1|                1|                 7|               42|                 0|                 1|                 3|             0.08|                61|                 4|        Africa|\n",
      "|    max|      Zimbabwe|South America|          1381344997|         5032179|              6590|            162804|              819|           2576668|             4140|           2292707|             18296|             39922|           1238.0|          63139605|            995282|WesternPacific|\n",
      "+-------+--------------+-------------+--------------------+----------------+------------------+------------------+-----------------+------------------+-----------------+------------------+------------------+------------------+-----------------+------------------+------------------+--------------+\n",
      "\n"
     ]
    }
   ],
   "source": [
    "df.describe().show()\n"
   ]
  },
  {
   "cell_type": "code",
   "execution_count": 6,
   "id": "dda95c34-f1be-48d2-be0a-0bebb0a1f035",
   "metadata": {},
   "outputs": [
    {
     "data": {
      "text/html": [
       "<div>\n",
       "<style scoped>\n",
       "    .dataframe tbody tr th:only-of-type {\n",
       "        vertical-align: middle;\n",
       "    }\n",
       "\n",
       "    .dataframe tbody tr th {\n",
       "        vertical-align: top;\n",
       "    }\n",
       "\n",
       "    .dataframe thead th {\n",
       "        text-align: right;\n",
       "    }\n",
       "</style>\n",
       "<table border=\"1\" class=\"dataframe\">\n",
       "  <thead>\n",
       "    <tr style=\"text-align: right;\">\n",
       "      <th></th>\n",
       "      <th>Country/Region</th>\n",
       "      <th>Continent</th>\n",
       "      <th>Population</th>\n",
       "      <th>TotalCases</th>\n",
       "      <th>NewCases</th>\n",
       "      <th>TotalDeaths</th>\n",
       "      <th>NewDeaths</th>\n",
       "      <th>TotalRecovered</th>\n",
       "      <th>NewRecovered</th>\n",
       "      <th>ActiveCases</th>\n",
       "      <th>Serious,Critical</th>\n",
       "      <th>Tot Cases/1M pop</th>\n",
       "      <th>Deaths/1M pop</th>\n",
       "      <th>TotalTests</th>\n",
       "      <th>Tests/1M pop</th>\n",
       "      <th>WHO Region</th>\n",
       "    </tr>\n",
       "  </thead>\n",
       "  <tbody>\n",
       "    <tr>\n",
       "      <th>0</th>\n",
       "      <td>USA</td>\n",
       "      <td>North America</td>\n",
       "      <td>331198130</td>\n",
       "      <td>5032179</td>\n",
       "      <td>NaN</td>\n",
       "      <td>162804</td>\n",
       "      <td>NaN</td>\n",
       "      <td>2576668</td>\n",
       "      <td>NaN</td>\n",
       "      <td>2292707</td>\n",
       "      <td>18296</td>\n",
       "      <td>15194</td>\n",
       "      <td>492.0</td>\n",
       "      <td>63139605</td>\n",
       "      <td>190640</td>\n",
       "      <td>Americas</td>\n",
       "    </tr>\n",
       "    <tr>\n",
       "      <th>1</th>\n",
       "      <td>Brazil</td>\n",
       "      <td>South America</td>\n",
       "      <td>212710692</td>\n",
       "      <td>2917562</td>\n",
       "      <td>NaN</td>\n",
       "      <td>98644</td>\n",
       "      <td>NaN</td>\n",
       "      <td>2047660</td>\n",
       "      <td>NaN</td>\n",
       "      <td>771258</td>\n",
       "      <td>8318</td>\n",
       "      <td>13716</td>\n",
       "      <td>464.0</td>\n",
       "      <td>13206188</td>\n",
       "      <td>62085</td>\n",
       "      <td>Americas</td>\n",
       "    </tr>\n",
       "    <tr>\n",
       "      <th>2</th>\n",
       "      <td>India</td>\n",
       "      <td>Asia</td>\n",
       "      <td>1381344997</td>\n",
       "      <td>2025409</td>\n",
       "      <td>NaN</td>\n",
       "      <td>41638</td>\n",
       "      <td>NaN</td>\n",
       "      <td>1377384</td>\n",
       "      <td>NaN</td>\n",
       "      <td>606387</td>\n",
       "      <td>8944</td>\n",
       "      <td>1466</td>\n",
       "      <td>30.0</td>\n",
       "      <td>22149351</td>\n",
       "      <td>16035</td>\n",
       "      <td>South-EastAsia</td>\n",
       "    </tr>\n",
       "    <tr>\n",
       "      <th>3</th>\n",
       "      <td>Russia</td>\n",
       "      <td>Europe</td>\n",
       "      <td>145940924</td>\n",
       "      <td>871894</td>\n",
       "      <td>NaN</td>\n",
       "      <td>14606</td>\n",
       "      <td>NaN</td>\n",
       "      <td>676357</td>\n",
       "      <td>NaN</td>\n",
       "      <td>180931</td>\n",
       "      <td>2300</td>\n",
       "      <td>5974</td>\n",
       "      <td>100.0</td>\n",
       "      <td>29716907</td>\n",
       "      <td>203623</td>\n",
       "      <td>Europe</td>\n",
       "    </tr>\n",
       "    <tr>\n",
       "      <th>4</th>\n",
       "      <td>South Africa</td>\n",
       "      <td>Africa</td>\n",
       "      <td>59381566</td>\n",
       "      <td>538184</td>\n",
       "      <td>NaN</td>\n",
       "      <td>9604</td>\n",
       "      <td>NaN</td>\n",
       "      <td>387316</td>\n",
       "      <td>NaN</td>\n",
       "      <td>141264</td>\n",
       "      <td>539</td>\n",
       "      <td>9063</td>\n",
       "      <td>162.0</td>\n",
       "      <td>3149807</td>\n",
       "      <td>53044</td>\n",
       "      <td>Africa</td>\n",
       "    </tr>\n",
       "  </tbody>\n",
       "</table>\n",
       "</div>"
      ],
      "text/plain": [
       "  Country/Region      Continent  Population  TotalCases  NewCases  \\\n",
       "0            USA  North America   331198130     5032179       NaN   \n",
       "1         Brazil  South America   212710692     2917562       NaN   \n",
       "2          India           Asia  1381344997     2025409       NaN   \n",
       "3         Russia         Europe   145940924      871894       NaN   \n",
       "4   South Africa         Africa    59381566      538184       NaN   \n",
       "\n",
       "   TotalDeaths  NewDeaths  TotalRecovered  NewRecovered  ActiveCases  \\\n",
       "0       162804        NaN         2576668           NaN      2292707   \n",
       "1        98644        NaN         2047660           NaN       771258   \n",
       "2        41638        NaN         1377384           NaN       606387   \n",
       "3        14606        NaN          676357           NaN       180931   \n",
       "4         9604        NaN          387316           NaN       141264   \n",
       "\n",
       "   Serious,Critical  Tot Cases/1M pop  Deaths/1M pop  TotalTests  \\\n",
       "0             18296             15194          492.0    63139605   \n",
       "1              8318             13716          464.0    13206188   \n",
       "2              8944              1466           30.0    22149351   \n",
       "3              2300              5974          100.0    29716907   \n",
       "4               539              9063          162.0     3149807   \n",
       "\n",
       "   Tests/1M pop      WHO Region  \n",
       "0        190640        Americas  \n",
       "1         62085        Americas  \n",
       "2         16035  South-EastAsia  \n",
       "3        203623          Europe  \n",
       "4         53044          Africa  "
      ]
     },
     "execution_count": 6,
     "metadata": {},
     "output_type": "execute_result"
    }
   ],
   "source": [
    "import pandas as pd\n",
    "\n",
    "# Convert to Pandas DataFrame\n",
    "df_for_display = df.limit(5).toPandas()\n",
    "df_for_display.head(5)"
   ]
  },
  {
   "cell_type": "code",
   "execution_count": 7,
   "id": "bdbf5947-1fd8-40d9-aee5-8432704422af",
   "metadata": {},
   "outputs": [
    {
     "data": {
      "text/html": [
       "<div>\n",
       "<style scoped>\n",
       "    .dataframe tbody tr th:only-of-type {\n",
       "        vertical-align: middle;\n",
       "    }\n",
       "\n",
       "    .dataframe tbody tr th {\n",
       "        vertical-align: top;\n",
       "    }\n",
       "\n",
       "    .dataframe thead th {\n",
       "        text-align: right;\n",
       "    }\n",
       "</style>\n",
       "<table border=\"1\" class=\"dataframe\">\n",
       "  <thead>\n",
       "    <tr style=\"text-align: right;\">\n",
       "      <th></th>\n",
       "      <th>Population</th>\n",
       "      <th>TotalCases</th>\n",
       "      <th>NewCases</th>\n",
       "      <th>TotalDeaths</th>\n",
       "      <th>NewDeaths</th>\n",
       "      <th>TotalRecovered</th>\n",
       "      <th>NewRecovered</th>\n",
       "      <th>ActiveCases</th>\n",
       "      <th>Serious,Critical</th>\n",
       "      <th>Tot Cases/1M pop</th>\n",
       "      <th>Deaths/1M pop</th>\n",
       "      <th>TotalTests</th>\n",
       "      <th>Tests/1M pop</th>\n",
       "    </tr>\n",
       "  </thead>\n",
       "  <tbody>\n",
       "    <tr>\n",
       "      <th>count</th>\n",
       "      <td>5.000000e+00</td>\n",
       "      <td>5.000000e+00</td>\n",
       "      <td>0.0</td>\n",
       "      <td>5.000000</td>\n",
       "      <td>0.0</td>\n",
       "      <td>5.000000e+00</td>\n",
       "      <td>0.0</td>\n",
       "      <td>5.000000e+00</td>\n",
       "      <td>5.000000</td>\n",
       "      <td>5.000000</td>\n",
       "      <td>5.000000</td>\n",
       "      <td>5.000000e+00</td>\n",
       "      <td>5.000000</td>\n",
       "    </tr>\n",
       "    <tr>\n",
       "      <th>mean</th>\n",
       "      <td>4.261153e+08</td>\n",
       "      <td>2.277046e+06</td>\n",
       "      <td>NaN</td>\n",
       "      <td>65459.200000</td>\n",
       "      <td>NaN</td>\n",
       "      <td>1.413077e+06</td>\n",
       "      <td>NaN</td>\n",
       "      <td>7.985094e+05</td>\n",
       "      <td>7679.400000</td>\n",
       "      <td>9082.600000</td>\n",
       "      <td>249.600000</td>\n",
       "      <td>2.627237e+07</td>\n",
       "      <td>105085.400000</td>\n",
       "    </tr>\n",
       "    <tr>\n",
       "      <th>std</th>\n",
       "      <td>5.431404e+08</td>\n",
       "      <td>1.807099e+06</td>\n",
       "      <td>NaN</td>\n",
       "      <td>64904.818629</td>\n",
       "      <td>NaN</td>\n",
       "      <td>9.155402e+05</td>\n",
       "      <td>NaN</td>\n",
       "      <td>8.780169e+05</td>\n",
       "      <td>6975.716365</td>\n",
       "      <td>5623.477109</td>\n",
       "      <td>213.894366</td>\n",
       "      <td>2.287704e+07</td>\n",
       "      <td>85901.926127</td>\n",
       "    </tr>\n",
       "    <tr>\n",
       "      <th>min</th>\n",
       "      <td>5.938157e+07</td>\n",
       "      <td>5.381840e+05</td>\n",
       "      <td>NaN</td>\n",
       "      <td>9604.000000</td>\n",
       "      <td>NaN</td>\n",
       "      <td>3.873160e+05</td>\n",
       "      <td>NaN</td>\n",
       "      <td>1.412640e+05</td>\n",
       "      <td>539.000000</td>\n",
       "      <td>1466.000000</td>\n",
       "      <td>30.000000</td>\n",
       "      <td>3.149807e+06</td>\n",
       "      <td>16035.000000</td>\n",
       "    </tr>\n",
       "    <tr>\n",
       "      <th>25%</th>\n",
       "      <td>1.459409e+08</td>\n",
       "      <td>8.718940e+05</td>\n",
       "      <td>NaN</td>\n",
       "      <td>14606.000000</td>\n",
       "      <td>NaN</td>\n",
       "      <td>6.763570e+05</td>\n",
       "      <td>NaN</td>\n",
       "      <td>1.809310e+05</td>\n",
       "      <td>2300.000000</td>\n",
       "      <td>5974.000000</td>\n",
       "      <td>100.000000</td>\n",
       "      <td>1.320619e+07</td>\n",
       "      <td>53044.000000</td>\n",
       "    </tr>\n",
       "    <tr>\n",
       "      <th>50%</th>\n",
       "      <td>2.127107e+08</td>\n",
       "      <td>2.025409e+06</td>\n",
       "      <td>NaN</td>\n",
       "      <td>41638.000000</td>\n",
       "      <td>NaN</td>\n",
       "      <td>1.377384e+06</td>\n",
       "      <td>NaN</td>\n",
       "      <td>6.063870e+05</td>\n",
       "      <td>8318.000000</td>\n",
       "      <td>9063.000000</td>\n",
       "      <td>162.000000</td>\n",
       "      <td>2.214935e+07</td>\n",
       "      <td>62085.000000</td>\n",
       "    </tr>\n",
       "    <tr>\n",
       "      <th>75%</th>\n",
       "      <td>3.311981e+08</td>\n",
       "      <td>2.917562e+06</td>\n",
       "      <td>NaN</td>\n",
       "      <td>98644.000000</td>\n",
       "      <td>NaN</td>\n",
       "      <td>2.047660e+06</td>\n",
       "      <td>NaN</td>\n",
       "      <td>7.712580e+05</td>\n",
       "      <td>8944.000000</td>\n",
       "      <td>13716.000000</td>\n",
       "      <td>464.000000</td>\n",
       "      <td>2.971691e+07</td>\n",
       "      <td>190640.000000</td>\n",
       "    </tr>\n",
       "    <tr>\n",
       "      <th>max</th>\n",
       "      <td>1.381345e+09</td>\n",
       "      <td>5.032179e+06</td>\n",
       "      <td>NaN</td>\n",
       "      <td>162804.000000</td>\n",
       "      <td>NaN</td>\n",
       "      <td>2.576668e+06</td>\n",
       "      <td>NaN</td>\n",
       "      <td>2.292707e+06</td>\n",
       "      <td>18296.000000</td>\n",
       "      <td>15194.000000</td>\n",
       "      <td>492.000000</td>\n",
       "      <td>6.313960e+07</td>\n",
       "      <td>203623.000000</td>\n",
       "    </tr>\n",
       "  </tbody>\n",
       "</table>\n",
       "</div>"
      ],
      "text/plain": [
       "         Population    TotalCases  NewCases    TotalDeaths  NewDeaths  \\\n",
       "count  5.000000e+00  5.000000e+00       0.0       5.000000        0.0   \n",
       "mean   4.261153e+08  2.277046e+06       NaN   65459.200000        NaN   \n",
       "std    5.431404e+08  1.807099e+06       NaN   64904.818629        NaN   \n",
       "min    5.938157e+07  5.381840e+05       NaN    9604.000000        NaN   \n",
       "25%    1.459409e+08  8.718940e+05       NaN   14606.000000        NaN   \n",
       "50%    2.127107e+08  2.025409e+06       NaN   41638.000000        NaN   \n",
       "75%    3.311981e+08  2.917562e+06       NaN   98644.000000        NaN   \n",
       "max    1.381345e+09  5.032179e+06       NaN  162804.000000        NaN   \n",
       "\n",
       "       TotalRecovered  NewRecovered   ActiveCases  Serious,Critical  \\\n",
       "count    5.000000e+00           0.0  5.000000e+00          5.000000   \n",
       "mean     1.413077e+06           NaN  7.985094e+05       7679.400000   \n",
       "std      9.155402e+05           NaN  8.780169e+05       6975.716365   \n",
       "min      3.873160e+05           NaN  1.412640e+05        539.000000   \n",
       "25%      6.763570e+05           NaN  1.809310e+05       2300.000000   \n",
       "50%      1.377384e+06           NaN  6.063870e+05       8318.000000   \n",
       "75%      2.047660e+06           NaN  7.712580e+05       8944.000000   \n",
       "max      2.576668e+06           NaN  2.292707e+06      18296.000000   \n",
       "\n",
       "       Tot Cases/1M pop  Deaths/1M pop    TotalTests   Tests/1M pop  \n",
       "count          5.000000       5.000000  5.000000e+00       5.000000  \n",
       "mean        9082.600000     249.600000  2.627237e+07  105085.400000  \n",
       "std         5623.477109     213.894366  2.287704e+07   85901.926127  \n",
       "min         1466.000000      30.000000  3.149807e+06   16035.000000  \n",
       "25%         5974.000000     100.000000  1.320619e+07   53044.000000  \n",
       "50%         9063.000000     162.000000  2.214935e+07   62085.000000  \n",
       "75%        13716.000000     464.000000  2.971691e+07  190640.000000  \n",
       "max        15194.000000     492.000000  6.313960e+07  203623.000000  "
      ]
     },
     "execution_count": 7,
     "metadata": {},
     "output_type": "execute_result"
    }
   ],
   "source": [
    "df_for_display.describe()"
   ]
  },
  {
   "cell_type": "code",
   "execution_count": 8,
   "id": "acc099da-95b6-4488-982e-54b2434ac0df",
   "metadata": {},
   "outputs": [],
   "source": [
    "from pyspark.sql import functions as F"
   ]
  },
  {
   "cell_type": "code",
   "execution_count": 9,
   "id": "a57bffdf-72bb-4305-a5f8-e82abc7213b2",
   "metadata": {},
   "outputs": [
    {
     "name": "stdout",
     "output_type": "stream",
     "text": [
      "+--------------+---------+----------+----------+--------+-----------+---------+--------------+------------+-----------+----------------+----------------+-------------+----------+------------+----------+\n",
      "|Country/Region|Continent|Population|TotalCases|NewCases|TotalDeaths|NewDeaths|TotalRecovered|NewRecovered|ActiveCases|Serious,Critical|Tot Cases/1M pop|Deaths/1M pop|TotalTests|Tests/1M pop|WHO Region|\n",
      "+--------------+---------+----------+----------+--------+-----------+---------+--------------+------------+-----------+----------------+----------------+-------------+----------+------------+----------+\n",
      "|             0|        1|         1|         0|     205|         21|      206|             4|         206|          4|              87|               1|           22|        18|          18|        25|\n",
      "+--------------+---------+----------+----------+--------+-----------+---------+--------------+------------+-----------+----------------+----------------+-------------+----------+------------+----------+\n",
      "\n"
     ]
    }
   ],
   "source": [
    "columns = df.columns\n",
    "# Count NULL values for each column\n",
    "nan_counts = df.select([F.sum(F.col(column).isNull().cast(\"int\")).alias(column) for column in columns])\n",
    "nan_counts.show()"
   ]
  },
  {
   "cell_type": "code",
   "execution_count": 10,
   "id": "db1bbde0-7127-46ce-9b59-4a5c83191c43",
   "metadata": {},
   "outputs": [],
   "source": [
    "# Step 1: Fill NaN values with 0 for NewCases, NewDeaths, and NewRecovered\n",
    "df = df.fillna({\n",
    "    'NewCases': 0,\n",
    "    'NewDeaths': 0,\n",
    "    'NewRecovered': 0\n",
    "})"
   ]
  },
  {
   "cell_type": "code",
   "execution_count": 11,
   "id": "9c13e38a-f81b-477c-8361-67e4fbf5cf33",
   "metadata": {},
   "outputs": [],
   "source": [
    "# Step 2: Update Total Cases, Total Deaths, and Total Recovered\n",
    "df = df.withColumn(\"TotalCases\", F.col(\"TotalCases\") + F.col(\"NewCases\"))\n",
    "df = df.withColumn(\"TotalDeaths\", F.col(\"TotalDeaths\") + F.col(\"NewDeaths\"))\n",
    "df = df.withColumn(\"TotalRecovered\", F.col(\"TotalRecovered\") + F.col(\"NewRecovered\"))\n",
    "\n",
    "# Step 3: Drop the NewCases, NewDeaths, and NewRecovered columns\n",
    "df = df.drop(\"NewCases\", \"NewDeaths\", \"NewRecovered\")"
   ]
  },
  {
   "cell_type": "code",
   "execution_count": 12,
   "id": "4be4dce9-25ce-4f5e-8e95-662ce9a02353",
   "metadata": {},
   "outputs": [
    {
     "data": {
      "text/html": [
       "<div>\n",
       "<style scoped>\n",
       "    .dataframe tbody tr th:only-of-type {\n",
       "        vertical-align: middle;\n",
       "    }\n",
       "\n",
       "    .dataframe tbody tr th {\n",
       "        vertical-align: top;\n",
       "    }\n",
       "\n",
       "    .dataframe thead th {\n",
       "        text-align: right;\n",
       "    }\n",
       "</style>\n",
       "<table border=\"1\" class=\"dataframe\">\n",
       "  <thead>\n",
       "    <tr style=\"text-align: right;\">\n",
       "      <th></th>\n",
       "      <th>Country/Region</th>\n",
       "      <th>Continent</th>\n",
       "      <th>Population</th>\n",
       "      <th>TotalCases</th>\n",
       "      <th>TotalDeaths</th>\n",
       "      <th>TotalRecovered</th>\n",
       "      <th>ActiveCases</th>\n",
       "      <th>Serious,Critical</th>\n",
       "      <th>Tot Cases/1M pop</th>\n",
       "      <th>Deaths/1M pop</th>\n",
       "      <th>TotalTests</th>\n",
       "      <th>Tests/1M pop</th>\n",
       "      <th>WHO Region</th>\n",
       "    </tr>\n",
       "  </thead>\n",
       "  <tbody>\n",
       "    <tr>\n",
       "      <th>0</th>\n",
       "      <td>USA</td>\n",
       "      <td>North America</td>\n",
       "      <td>331198130</td>\n",
       "      <td>5032179</td>\n",
       "      <td>162804</td>\n",
       "      <td>2576668</td>\n",
       "      <td>2292707</td>\n",
       "      <td>18296</td>\n",
       "      <td>15194</td>\n",
       "      <td>492.0</td>\n",
       "      <td>63139605</td>\n",
       "      <td>190640</td>\n",
       "      <td>Americas</td>\n",
       "    </tr>\n",
       "    <tr>\n",
       "      <th>1</th>\n",
       "      <td>Brazil</td>\n",
       "      <td>South America</td>\n",
       "      <td>212710692</td>\n",
       "      <td>2917562</td>\n",
       "      <td>98644</td>\n",
       "      <td>2047660</td>\n",
       "      <td>771258</td>\n",
       "      <td>8318</td>\n",
       "      <td>13716</td>\n",
       "      <td>464.0</td>\n",
       "      <td>13206188</td>\n",
       "      <td>62085</td>\n",
       "      <td>Americas</td>\n",
       "    </tr>\n",
       "    <tr>\n",
       "      <th>2</th>\n",
       "      <td>India</td>\n",
       "      <td>Asia</td>\n",
       "      <td>1381344997</td>\n",
       "      <td>2025409</td>\n",
       "      <td>41638</td>\n",
       "      <td>1377384</td>\n",
       "      <td>606387</td>\n",
       "      <td>8944</td>\n",
       "      <td>1466</td>\n",
       "      <td>30.0</td>\n",
       "      <td>22149351</td>\n",
       "      <td>16035</td>\n",
       "      <td>South-EastAsia</td>\n",
       "    </tr>\n",
       "    <tr>\n",
       "      <th>3</th>\n",
       "      <td>Russia</td>\n",
       "      <td>Europe</td>\n",
       "      <td>145940924</td>\n",
       "      <td>871894</td>\n",
       "      <td>14606</td>\n",
       "      <td>676357</td>\n",
       "      <td>180931</td>\n",
       "      <td>2300</td>\n",
       "      <td>5974</td>\n",
       "      <td>100.0</td>\n",
       "      <td>29716907</td>\n",
       "      <td>203623</td>\n",
       "      <td>Europe</td>\n",
       "    </tr>\n",
       "    <tr>\n",
       "      <th>4</th>\n",
       "      <td>South Africa</td>\n",
       "      <td>Africa</td>\n",
       "      <td>59381566</td>\n",
       "      <td>538184</td>\n",
       "      <td>9604</td>\n",
       "      <td>387316</td>\n",
       "      <td>141264</td>\n",
       "      <td>539</td>\n",
       "      <td>9063</td>\n",
       "      <td>162.0</td>\n",
       "      <td>3149807</td>\n",
       "      <td>53044</td>\n",
       "      <td>Africa</td>\n",
       "    </tr>\n",
       "    <tr>\n",
       "      <th>5</th>\n",
       "      <td>Mexico</td>\n",
       "      <td>North America</td>\n",
       "      <td>129066160</td>\n",
       "      <td>469280</td>\n",
       "      <td>51336</td>\n",
       "      <td>312988</td>\n",
       "      <td>103325</td>\n",
       "      <td>3987</td>\n",
       "      <td>3585</td>\n",
       "      <td>391.0</td>\n",
       "      <td>1056915</td>\n",
       "      <td>8189</td>\n",
       "      <td>Americas</td>\n",
       "    </tr>\n",
       "    <tr>\n",
       "      <th>6</th>\n",
       "      <td>Peru</td>\n",
       "      <td>South America</td>\n",
       "      <td>33016319</td>\n",
       "      <td>455409</td>\n",
       "      <td>20424</td>\n",
       "      <td>310337</td>\n",
       "      <td>124648</td>\n",
       "      <td>1426</td>\n",
       "      <td>13793</td>\n",
       "      <td>619.0</td>\n",
       "      <td>2493429</td>\n",
       "      <td>75521</td>\n",
       "      <td>Americas</td>\n",
       "    </tr>\n",
       "  </tbody>\n",
       "</table>\n",
       "</div>"
      ],
      "text/plain": [
       "  Country/Region      Continent  Population  TotalCases  TotalDeaths  \\\n",
       "0            USA  North America   331198130     5032179       162804   \n",
       "1         Brazil  South America   212710692     2917562        98644   \n",
       "2          India           Asia  1381344997     2025409        41638   \n",
       "3         Russia         Europe   145940924      871894        14606   \n",
       "4   South Africa         Africa    59381566      538184         9604   \n",
       "5         Mexico  North America   129066160      469280        51336   \n",
       "6           Peru  South America    33016319      455409        20424   \n",
       "\n",
       "   TotalRecovered  ActiveCases  Serious,Critical  Tot Cases/1M pop  \\\n",
       "0         2576668      2292707             18296             15194   \n",
       "1         2047660       771258              8318             13716   \n",
       "2         1377384       606387              8944              1466   \n",
       "3          676357       180931              2300              5974   \n",
       "4          387316       141264               539              9063   \n",
       "5          312988       103325              3987              3585   \n",
       "6          310337       124648              1426             13793   \n",
       "\n",
       "   Deaths/1M pop  TotalTests  Tests/1M pop      WHO Region  \n",
       "0          492.0    63139605        190640        Americas  \n",
       "1          464.0    13206188         62085        Americas  \n",
       "2           30.0    22149351         16035  South-EastAsia  \n",
       "3          100.0    29716907        203623          Europe  \n",
       "4          162.0     3149807         53044          Africa  \n",
       "5          391.0     1056915          8189        Americas  \n",
       "6          619.0     2493429         75521        Americas  "
      ]
     },
     "execution_count": 12,
     "metadata": {},
     "output_type": "execute_result"
    }
   ],
   "source": [
    "# Show the updated DataFrame\n",
    "df_for_display_1 = df.limit(7).toPandas()\n",
    "df_for_display_1.head(7)"
   ]
  },
  {
   "cell_type": "code",
   "execution_count": 13,
   "id": "2b11a49b-51a2-48af-a6b1-d7e21b7f89d4",
   "metadata": {},
   "outputs": [],
   "source": [
    "# Step 4: Fill missing values for TotalDeaths and TotalRecovered\n",
    "df = df.withColumn(\"TotalDeaths\", \n",
    "                   F.when(F.col(\"TotalDeaths\").isNull(), F.col(\"TotalCases\") - F.col(\"TotalRecovered\"))\n",
    "                    .otherwise(F.col(\"TotalDeaths\")))\n",
    "\n",
    "df = df.withColumn(\"TotalRecovered\", \n",
    "                   F.when(F.col(\"TotalRecovered\").isNull(), F.col(\"TotalCases\") - F.col(\"TotalDeaths\"))\n",
    "                    .otherwise(F.col(\"TotalRecovered\")))"
   ]
  },
  {
   "cell_type": "code",
   "execution_count": 14,
   "id": "2b60ea23-c17a-4fb0-8ab2-ac59a42e18d9",
   "metadata": {},
   "outputs": [
    {
     "name": "stdout",
     "output_type": "stream",
     "text": [
      "+--------------+---------+----------+----------+-----------+--------------+-----------+----------------+----------------+-------------+----------+------------+----------+\n",
      "|Country/Region|Continent|Population|TotalCases|TotalDeaths|TotalRecovered|ActiveCases|Serious,Critical|Tot Cases/1M pop|Deaths/1M pop|TotalTests|Tests/1M pop|WHO Region|\n",
      "+--------------+---------+----------+----------+-----------+--------------+-----------+----------------+----------------+-------------+----------+------------+----------+\n",
      "|             0|        1|         1|         0|          0|             0|          4|              87|               1|           22|        18|          18|        25|\n",
      "+--------------+---------+----------+----------+-----------+--------------+-----------+----------------+----------------+-------------+----------+------------+----------+\n",
      "\n"
     ]
    }
   ],
   "source": [
    "columns = df.columns\n",
    "# Count NULL values for each column\n",
    "nan_counts = df.select([F.sum(F.col(column).isNull().cast(\"int\")).alias(column) for column in columns])\n",
    "nan_counts.show()"
   ]
  },
  {
   "cell_type": "code",
   "execution_count": 15,
   "id": "c690f631-1104-4ed0-a3c7-2c3745e7005d",
   "metadata": {},
   "outputs": [],
   "source": [
    "df = df.filter(F.col(\"Tot Cases/1M pop\").isNotNull())\n",
    "df = df.filter(F.col(\"Continent\").isNotNull())\n",
    "df = df.filter(F.col(\"Tot Cases/1M pop\").isNotNull())"
   ]
  },
  {
   "cell_type": "code",
   "execution_count": 16,
   "id": "43cbcf1f-bf66-418d-a153-f5037ad32550",
   "metadata": {},
   "outputs": [
    {
     "name": "stdout",
     "output_type": "stream",
     "text": [
      "+--------------+---------+----------+----------+-----------+--------------+-----------+----------------+----------------+-------------+----------+------------+----------+\n",
      "|Country/Region|Continent|Population|TotalCases|TotalDeaths|TotalRecovered|ActiveCases|Serious,Critical|Tot Cases/1M pop|Deaths/1M pop|TotalTests|Tests/1M pop|WHO Region|\n",
      "+--------------+---------+----------+----------+-----------+--------------+-----------+----------------+----------------+-------------+----------+------------+----------+\n",
      "|             0|        0|         0|         0|          0|             0|          4|              87|               0|           21|        17|          17|        24|\n",
      "+--------------+---------+----------+----------+-----------+--------------+-----------+----------------+----------------+-------------+----------+------------+----------+\n",
      "\n"
     ]
    }
   ],
   "source": [
    "columns = df.columns\n",
    "# Count NULL values for each column\n",
    "nan_counts = df.select([F.sum(F.col(column).isNull().cast(\"int\")).alias(column) for column in columns])\n",
    "nan_counts.show()"
   ]
  },
  {
   "cell_type": "code",
   "execution_count": 17,
   "id": "d1d943d9-16fe-41b1-a340-a911c20b24f6",
   "metadata": {},
   "outputs": [],
   "source": [
    "df = df.withColumn(\"WHO Region\", F.when(F.col(\"WHO Region\").isNull(), F.col(\"Continent\")).otherwise(F.col(\"WHO Region\")))\n",
    "\n",
    "df = df.withColumn(\n",
    "    \"Deaths/1M pop\",\n",
    "    F.when(F.col(\"Deaths/1M pop\").isNull(), (F.col(\"TotalDeaths\") / F.col(\"Population\")) * 1_000_000)\n",
    "     .otherwise(F.col(\"Deaths/1M pop\"))\n",
    ")"
   ]
  },
  {
   "cell_type": "code",
   "execution_count": 18,
   "id": "26da7ee6-1762-45c2-9ba3-76ed41e26766",
   "metadata": {},
   "outputs": [
    {
     "name": "stdout",
     "output_type": "stream",
     "text": [
      "+--------------+---------+----------+----------+-----------+--------------+-----------+----------------+----------------+-------------+----------+------------+----------+\n",
      "|Country/Region|Continent|Population|TotalCases|TotalDeaths|TotalRecovered|ActiveCases|Serious,Critical|Tot Cases/1M pop|Deaths/1M pop|TotalTests|Tests/1M pop|WHO Region|\n",
      "+--------------+---------+----------+----------+-----------+--------------+-----------+----------------+----------------+-------------+----------+------------+----------+\n",
      "|             0|        0|         0|         0|          0|             0|          4|              87|               0|            0|        17|          17|         0|\n",
      "+--------------+---------+----------+----------+-----------+--------------+-----------+----------------+----------------+-------------+----------+------------+----------+\n",
      "\n"
     ]
    }
   ],
   "source": [
    "columns = df.columns\n",
    "# Count NULL values for each column\n",
    "nan_counts = df.select([F.sum(F.col(column).isNull().cast(\"int\")).alias(column) for column in columns])\n",
    "nan_counts.show()"
   ]
  },
  {
   "cell_type": "code",
   "execution_count": 19,
   "id": "5d71d4df-b825-42d9-9145-c2d3fcd4c3e0",
   "metadata": {},
   "outputs": [],
   "source": [
    "# Fill missing ActiveCases using the formula\n",
    "df = df.withColumn(\n",
    "    \"ActiveCases\",\n",
    "    F.when(\n",
    "        F.col(\"ActiveCases\").isNull(),\n",
    "        F.col(\"TotalCases\") - (F.col(\"TotalRecovered\") + F.col(\"TotalDeaths\"))\n",
    "    ).otherwise(F.col(\"ActiveCases\"))\n",
    ")"
   ]
  },
  {
   "cell_type": "code",
   "execution_count": 20,
   "id": "b053411a-0387-429e-8242-b2c956598d0c",
   "metadata": {},
   "outputs": [
    {
     "name": "stdout",
     "output_type": "stream",
     "text": [
      "+--------------+---------+----------+----------+-----------+--------------+-----------+----------------+----------------+-------------+----------+------------+----------+\n",
      "|Country/Region|Continent|Population|TotalCases|TotalDeaths|TotalRecovered|ActiveCases|Serious,Critical|Tot Cases/1M pop|Deaths/1M pop|TotalTests|Tests/1M pop|WHO Region|\n",
      "+--------------+---------+----------+----------+-----------+--------------+-----------+----------------+----------------+-------------+----------+------------+----------+\n",
      "|             0|        0|         0|         0|          0|             0|          0|              87|               0|            0|        17|          17|         0|\n",
      "+--------------+---------+----------+----------+-----------+--------------+-----------+----------------+----------------+-------------+----------+------------+----------+\n",
      "\n"
     ]
    }
   ],
   "source": [
    "columns = df.columns\n",
    "# Count NULL values for each column\n",
    "nan_counts = df.select([F.sum(F.col(column).isNull().cast(\"int\")).alias(column) for column in columns])\n",
    "nan_counts.show()"
   ]
  },
  {
   "cell_type": "code",
   "execution_count": 21,
   "id": "87e9c0f4-fa05-4da1-841c-bca2e2ab9f3e",
   "metadata": {},
   "outputs": [],
   "source": [
    "# Drop the Serious,Critical column\n",
    "df = df.drop(\"Serious,Critical\")"
   ]
  },
  {
   "cell_type": "code",
   "execution_count": 22,
   "id": "bbee1a66-29e8-485d-9f5b-9dd3c56045a0",
   "metadata": {},
   "outputs": [],
   "source": [
    "df = df.withColumn(\n",
    "    \"TotalTests\",\n",
    "    F.when(\n",
    "        F.col(\"TotalTests\").isNull() & (F.col(\"ActiveCases\") > 0),\n",
    "        (F.col(\"TotalCases\") / F.col(\"ActiveCases\")) * F.col(\"Population\")\n",
    "    ).otherwise(F.col(\"TotalTests\"))\n",
    ")"
   ]
  },
  {
   "cell_type": "code",
   "execution_count": 23,
   "id": "8644c93a-4761-4479-8350-6f23ca3c4160",
   "metadata": {},
   "outputs": [
    {
     "name": "stdout",
     "output_type": "stream",
     "text": [
      "+--------------+---------+----------+----------+-----------+--------------+-----------+----------------+-------------+----------+------------+----------+\n",
      "|Country/Region|Continent|Population|TotalCases|TotalDeaths|TotalRecovered|ActiveCases|Tot Cases/1M pop|Deaths/1M pop|TotalTests|Tests/1M pop|WHO Region|\n",
      "+--------------+---------+----------+----------+-----------+--------------+-----------+----------------+-------------+----------+------------+----------+\n",
      "|             0|        0|         0|         0|          0|             0|          0|               0|            0|         1|          17|         0|\n",
      "+--------------+---------+----------+----------+-----------+--------------+-----------+----------------+-------------+----------+------------+----------+\n",
      "\n"
     ]
    }
   ],
   "source": [
    "columns = df.columns\n",
    "# Count NULL values for each column\n",
    "nan_counts = df.select([F.sum(F.col(column).isNull().cast(\"int\")).alias(column) for column in columns])\n",
    "nan_counts.show()"
   ]
  },
  {
   "cell_type": "code",
   "execution_count": 24,
   "id": "45561ca0-2798-485c-a67e-f7d1840bac48",
   "metadata": {},
   "outputs": [],
   "source": [
    "df = df.filter(F.col(\"TotalTests\").isNotNull())\n",
    "\n",
    "df = df.withColumn(\"Tests/1M pop\",\n",
    "                   F.when(F.col(\"TotalTests\").isNotNull(), (F.col(\"TotalTests\") / F.col(\"Population\")) * 1000000)\n",
    "                    .otherwise(F.col(\"Tests/1M pop\")))"
   ]
  },
  {
   "cell_type": "code",
   "execution_count": 25,
   "id": "b3bd694a-dfd4-4522-92d2-f1c2102ea347",
   "metadata": {},
   "outputs": [
    {
     "name": "stdout",
     "output_type": "stream",
     "text": [
      "+--------------+---------+----------+----------+-----------+--------------+-----------+----------------+-------------+----------+------------+----------+\n",
      "|Country/Region|Continent|Population|TotalCases|TotalDeaths|TotalRecovered|ActiveCases|Tot Cases/1M pop|Deaths/1M pop|TotalTests|Tests/1M pop|WHO Region|\n",
      "+--------------+---------+----------+----------+-----------+--------------+-----------+----------------+-------------+----------+------------+----------+\n",
      "|             0|        0|         0|         0|          0|             0|          0|               0|            0|         0|           0|         0|\n",
      "+--------------+---------+----------+----------+-----------+--------------+-----------+----------------+-------------+----------+------------+----------+\n",
      "\n"
     ]
    }
   ],
   "source": [
    "columns = df.columns\n",
    "# Count NULL values for each column\n",
    "nan_counts = df.select([F.sum(F.col(column).isNull().cast(\"int\")).alias(column) for column in columns])\n",
    "nan_counts.show()"
   ]
  },
  {
   "cell_type": "code",
   "execution_count": 26,
   "id": "efdbb265-f755-4bf0-b0f9-e68ebead2b8f",
   "metadata": {},
   "outputs": [],
   "source": [
    "from pyspark.sql.functions import avg\n",
    "\n",
    "# Add a new column for Recoveries per million population\n",
    "df = df.withColumn(\"Recoveries/1M pop\", (F.col(\"TotalRecovered\") / F.col(\"Population\")) * 1_000_000)\n",
    "\n",
    "# Aggregating relevant metrics per continent\n",
    "continent_df = df.groupBy(\"Continent\").agg(\n",
    "    avg(\"Tot Cases/1M pop\").alias(\"Avg Cases/1M pop\"),\n",
    "    avg(\"Deaths/1M pop\").alias(\"Avg Deaths/1M pop\"),\n",
    "    avg(\"Recoveries/1M pop\").alias(\"Avg Recoveries/1M pop\"),\n",
    "    avg(\"Population\").alias(\"Avg Population\")\n",
    ")\n"
   ]
  },
  {
   "cell_type": "code",
   "execution_count": 27,
   "id": "4aea1976-a98a-46b0-a5c1-bb76419e1ebc",
   "metadata": {},
   "outputs": [],
   "source": [
    "from pyspark.sql.functions import expr\n",
    "\n",
    "# Adding Mortality Rate and Recovery Rate as percentage metrics\n",
    "continent_df = continent_df.withColumn(\n",
    "    \"Mortality Rate (%)\", expr(\"(`Avg Deaths/1M pop` / `Avg Cases/1M pop`) * 100\")\n",
    ").withColumn(\n",
    "    \"Recovery Rate (%)\", expr(\"(`Avg Recoveries/1M pop` / `Avg Cases/1M pop`) * 100\")\n",
    ")\n"
   ]
  },
  {
   "cell_type": "code",
   "execution_count": 28,
   "id": "2477d67e-5f75-4608-8632-709a994a5261",
   "metadata": {},
   "outputs": [
    {
     "data": {
      "text/html": [
       "<div>\n",
       "<style scoped>\n",
       "    .dataframe tbody tr th:only-of-type {\n",
       "        vertical-align: middle;\n",
       "    }\n",
       "\n",
       "    .dataframe tbody tr th {\n",
       "        vertical-align: top;\n",
       "    }\n",
       "\n",
       "    .dataframe thead th {\n",
       "        text-align: right;\n",
       "    }\n",
       "</style>\n",
       "<table border=\"1\" class=\"dataframe\">\n",
       "  <thead>\n",
       "    <tr style=\"text-align: right;\">\n",
       "      <th></th>\n",
       "      <th>Continent</th>\n",
       "      <th>Avg Cases/1M pop</th>\n",
       "      <th>Avg Deaths/1M pop</th>\n",
       "      <th>Avg Recoveries/1M pop</th>\n",
       "      <th>Avg Population</th>\n",
       "      <th>Mortality Rate (%)</th>\n",
       "      <th>Recovery Rate (%)</th>\n",
       "    </tr>\n",
       "  </thead>\n",
       "  <tbody>\n",
       "    <tr>\n",
       "      <th>0</th>\n",
       "      <td>Europe</td>\n",
       "      <td>4137.723404</td>\n",
       "      <td>241.807321</td>\n",
       "      <td>3305.807386</td>\n",
       "      <td>1.590802e+07</td>\n",
       "      <td>5.843970</td>\n",
       "      <td>79.894354</td>\n",
       "    </tr>\n",
       "    <tr>\n",
       "      <th>1</th>\n",
       "      <td>Africa</td>\n",
       "      <td>1130.807018</td>\n",
       "      <td>18.239554</td>\n",
       "      <td>826.777218</td>\n",
       "      <td>2.357045e+07</td>\n",
       "      <td>1.612968</td>\n",
       "      <td>73.113909</td>\n",
       "    </tr>\n",
       "    <tr>\n",
       "      <th>2</th>\n",
       "      <td>Australia/Oceania</td>\n",
       "      <td>241.000000</td>\n",
       "      <td>3.735936</td>\n",
       "      <td>176.132169</td>\n",
       "      <td>6.826318e+06</td>\n",
       "      <td>1.550181</td>\n",
       "      <td>73.083888</td>\n",
       "    </tr>\n",
       "    <tr>\n",
       "      <th>3</th>\n",
       "      <td>North America</td>\n",
       "      <td>2529.914286</td>\n",
       "      <td>98.537636</td>\n",
       "      <td>1444.423015</td>\n",
       "      <td>1.684296e+07</td>\n",
       "      <td>3.894900</td>\n",
       "      <td>57.093753</td>\n",
       "    </tr>\n",
       "    <tr>\n",
       "      <th>4</th>\n",
       "      <td>South America</td>\n",
       "      <td>7745.785714</td>\n",
       "      <td>201.285714</td>\n",
       "      <td>5806.694620</td>\n",
       "      <td>3.079360e+07</td>\n",
       "      <td>2.598648</td>\n",
       "      <td>74.965857</td>\n",
       "    </tr>\n",
       "    <tr>\n",
       "      <th>5</th>\n",
       "      <td>Asia</td>\n",
       "      <td>4008.937500</td>\n",
       "      <td>39.067737</td>\n",
       "      <td>3404.515048</td>\n",
       "      <td>6.611784e+07</td>\n",
       "      <td>0.974516</td>\n",
       "      <td>84.923126</td>\n",
       "    </tr>\n",
       "  </tbody>\n",
       "</table>\n",
       "</div>"
      ],
      "text/plain": [
       "           Continent  Avg Cases/1M pop  Avg Deaths/1M pop  \\\n",
       "0             Europe       4137.723404         241.807321   \n",
       "1             Africa       1130.807018          18.239554   \n",
       "2  Australia/Oceania        241.000000           3.735936   \n",
       "3      North America       2529.914286          98.537636   \n",
       "4      South America       7745.785714         201.285714   \n",
       "5               Asia       4008.937500          39.067737   \n",
       "\n",
       "   Avg Recoveries/1M pop  Avg Population  Mortality Rate (%)  \\\n",
       "0            3305.807386    1.590802e+07            5.843970   \n",
       "1             826.777218    2.357045e+07            1.612968   \n",
       "2             176.132169    6.826318e+06            1.550181   \n",
       "3            1444.423015    1.684296e+07            3.894900   \n",
       "4            5806.694620    3.079360e+07            2.598648   \n",
       "5            3404.515048    6.611784e+07            0.974516   \n",
       "\n",
       "   Recovery Rate (%)  \n",
       "0          79.894354  \n",
       "1          73.113909  \n",
       "2          73.083888  \n",
       "3          57.093753  \n",
       "4          74.965857  \n",
       "5          84.923126  "
      ]
     },
     "execution_count": 28,
     "metadata": {},
     "output_type": "execute_result"
    }
   ],
   "source": [
    "# Show the updated DataFrame\n",
    "continent_df_for_display = continent_df.limit(7).toPandas()\n",
    "continent_df_for_display.head(6)"
   ]
  },
  {
   "cell_type": "code",
   "execution_count": 29,
   "id": "d59188d8-b5e4-4868-91a6-4406995d8109",
   "metadata": {},
   "outputs": [],
   "source": [
    "continent_df_pandas = continent_df.toPandas()"
   ]
  },
  {
   "cell_type": "code",
   "execution_count": 30,
   "id": "3527face-5389-47a5-8a5c-2afb71427191",
   "metadata": {},
   "outputs": [
    {
     "name": "stdout",
     "output_type": "stream",
     "text": [
      "Collecting pymongo\n",
      "  Downloading pymongo-4.10.1-cp311-cp311-manylinux_2_17_x86_64.manylinux2014_x86_64.whl.metadata (22 kB)\n",
      "Collecting dnspython<3.0.0,>=1.16.0 (from pymongo)\n",
      "  Downloading dnspython-2.7.0-py3-none-any.whl.metadata (5.8 kB)\n",
      "Downloading pymongo-4.10.1-cp311-cp311-manylinux_2_17_x86_64.manylinux2014_x86_64.whl (1.7 MB)\n",
      "\u001b[2K   \u001b[90m━━━━━━━━━━━━━━━━━━━━━━━━━━━━━━━━━━━━━━━━\u001b[0m \u001b[32m1.7/1.7 MB\u001b[0m \u001b[31m2.1 MB/s\u001b[0m eta \u001b[36m0:00:00\u001b[0m00:01\u001b[0m00:01\u001b[0m0m\n",
      "\u001b[?25hDownloading dnspython-2.7.0-py3-none-any.whl (313 kB)\n",
      "\u001b[2K   \u001b[90m━━━━━━━━━━━━━━━━━━━━━━━━━━━━━━━━━━━━━━━━\u001b[0m \u001b[32m313.6/313.6 kB\u001b[0m \u001b[31m2.7 MB/s\u001b[0m eta \u001b[36m0:00:00\u001b[0ma \u001b[36m0:00:01\u001b[0m\n",
      "\u001b[?25hInstalling collected packages: dnspython, pymongo\n",
      "Successfully installed dnspython-2.7.0 pymongo-4.10.1\n"
     ]
    }
   ],
   "source": [
    "!pip install pymongo"
   ]
  },
  {
   "cell_type": "code",
   "execution_count": 34,
   "id": "4af6e059-c1e1-40e6-9648-62ff9896ff42",
   "metadata": {},
   "outputs": [
    {
     "name": "stdout",
     "output_type": "stream",
     "text": [
      "{'version': '8.0.3', 'gitVersion': '89d97f2744a2b9851ddfb51bdf22f687562d9b06', 'targetMinOS': 'Windows 7/Windows Server 2008 R2', 'modules': [], 'allocator': 'tcmalloc-gperf', 'javascriptEngine': 'mozjs', 'sysInfo': 'deprecated', 'versionArray': [8, 0, 3, 0], 'openssl': {'running': 'Windows SChannel'}, 'buildEnvironment': {'distmod': 'windows', 'distarch': 'x86_64', 'cc': 'cl: Microsoft (R) C/C++ Optimizing Compiler Version 19.31.31107 for x64', 'ccflags': '/nologo /WX /FImongo/platform/basic.h /fp:strict /EHsc /W3 /wd4068 /wd4244 /wd4267 /wd4290 /wd4351 /wd4355 /wd4373 /wd4800 /wd4251 /wd4291 /we4013 /we4099 /we4930 /errorReport:none /MD /O2 /Oy- /bigobj /utf-8 /permissive- /Zc:__cplusplus /Zc:sizedDealloc /volatile:iso /diagnostics:caret /std:c++20 /Gw /Gy /Zc:inline', 'cxx': 'cl: Microsoft (R) C/C++ Optimizing Compiler Version 19.31.31107 for x64', 'cxxflags': '/TP', 'linkflags': '/nologo /DEBUG /INCREMENTAL:NO /LARGEADDRESSAWARE /OPT:REF', 'target_arch': 'x86_64', 'target_os': 'windows', 'cppdefines': 'SAFEINT_USE_INTRINSICS 0 PCRE2_STATIC NDEBUG BOOST_ALL_NO_LIB _UNICODE UNICODE _SILENCE_CXX17_ALLOCATOR_VOID_DEPRECATION_WARNING _SILENCE_CXX17_OLD_ALLOCATOR_MEMBERS_DEPRECATION_WARNING _SILENCE_CXX17_CODECVT_HEADER_DEPRECATION_WARNING _SILENCE_ALL_CXX20_DEPRECATION_WARNINGS _CONSOLE _CRT_SECURE_NO_WARNINGS _ENABLE_EXTENDED_ALIGNED_STORAGE _SCL_SECURE_NO_WARNINGS _WIN32_WINNT 0x0A00 BOOST_USE_WINAPI_VERSION 0x0A00 NTDDI_VERSION 0x0A000000 ABSL_FORCE_ALIGNED_ACCESS BOOST_ENABLE_ASSERT_DEBUG_HANDLER BOOST_FILESYSTEM_NO_CXX20_ATOMIC_REF BOOST_LOG_NO_SHORTHAND_NAMES BOOST_LOG_USE_NATIVE_SYSLOG BOOST_LOG_WITHOUT_THREAD_ATTR BOOST_MATH_NO_LONG_DOUBLE_MATH_FUNCTIONS BOOST_SYSTEM_NO_DEPRECATED BOOST_THREAD_USES_DATETIME BOOST_THREAD_VERSION 5'}, 'bits': 64, 'debug': False, 'maxBsonObjectSize': 16777216, 'storageEngines': ['devnull', 'wiredTiger'], 'ok': 1.0}\n"
     ]
    }
   ],
   "source": [
    "from pymongo import MongoClient\n",
    "\n",
    "# MongoDB setup\n",
    "client = MongoClient(\"mongodb://host.docker.internal:27017/\")\n",
    "print(client.server_info())"
   ]
  },
  {
   "cell_type": "code",
   "execution_count": 35,
   "id": "65756f80-dce4-400b-91f9-e8ee3665d62c",
   "metadata": {},
   "outputs": [
    {
     "name": "stdout",
     "output_type": "stream",
     "text": [
      "Data inserted into MongoDB successfully.\n"
     ]
    }
   ],
   "source": [
    "\n",
    "db = client[\"covid19_analysis\"]\n",
    "collection = db[\"continent_summary\"]\n",
    "\n",
    "continent_records = continent_df_pandas.to_dict(orient=\"records\")\n",
    "\n",
    "# Insert data into MongoDB\n",
    "collection.insert_many(continent_records)\n",
    "print(\"Data inserted into MongoDB successfully.\")"
   ]
  },
  {
   "cell_type": "code",
   "execution_count": 36,
   "id": "63c46475-a973-47c8-bfa1-b0584e98d7d0",
   "metadata": {},
   "outputs": [
    {
     "name": "stdout",
     "output_type": "stream",
     "text": [
      "{'_id': ObjectId('672a0137774c9ca160c2fab8'), 'Continent': 'Europe', 'Avg Cases/1M pop': 4137.723404255319, 'Avg Deaths/1M pop': 241.80732061372538, 'Avg Recoveries/1M pop': 3305.807386429436, 'Avg Population': 15908015.851063829, 'Mortality Rate (%)': 5.843970149504092, 'Recovery Rate (%)': 79.89435405541309}\n",
      "{'_id': ObjectId('672a0137774c9ca160c2fab9'), 'Continent': 'Africa', 'Avg Cases/1M pop': 1130.8070175438597, 'Avg Deaths/1M pop': 18.239553970099344, 'Avg Recoveries/1M pop': 826.7772176028874, 'Avg Population': 23570447.175438598, 'Mortality Rate (%)': 1.6129678793218047, 'Recovery Rate (%)': 73.11390933871878}\n",
      "{'_id': ObjectId('672a0137774c9ca160c2faba'), 'Continent': 'Australia/Oceania', 'Avg Cases/1M pop': 241.0, 'Avg Deaths/1M pop': 3.7359357507447677, 'Avg Recoveries/1M pop': 176.13216896279516, 'Avg Population': 6826318.166666667, 'Mortality Rate (%)': 1.5501808094376628, 'Recovery Rate (%)': 73.08388753642953}\n",
      "{'_id': ObjectId('672a0137774c9ca160c2fabb'), 'Continent': 'North America', 'Avg Cases/1M pop': 2529.9142857142856, 'Avg Deaths/1M pop': 98.53763560808889, 'Avg Recoveries/1M pop': 1444.4230147185197, 'Avg Population': 16842956.2, 'Mortality Rate (%)': 3.894900161815885, 'Recovery Rate (%)': 57.09375305221881}\n",
      "{'_id': ObjectId('672a0137774c9ca160c2fabc'), 'Continent': 'South America', 'Avg Cases/1M pop': 7745.785714285715, 'Avg Deaths/1M pop': 201.28571428571428, 'Avg Recoveries/1M pop': 5806.694619757482, 'Avg Population': 30793604.57142857, 'Mortality Rate (%)': 2.5986481127986645, 'Recovery Rate (%)': 74.96585671158024}\n",
      "{'_id': ObjectId('672a0137774c9ca160c2fabd'), 'Continent': 'Asia', 'Avg Cases/1M pop': 4008.9375, 'Avg Deaths/1M pop': 39.06773716955214, 'Avg Recoveries/1M pop': 3404.5150484739956, 'Avg Population': 66117841.979166664, 'Mortality Rate (%)': 0.9745159950623361, 'Recovery Rate (%)': 84.9231261019658}\n"
     ]
    }
   ],
   "source": [
    "for record in collection.find():\n",
    "    print(record)"
   ]
  },
  {
   "cell_type": "code",
   "execution_count": 38,
   "id": "21e72be6-5cf0-492e-9be0-a52d8374277d",
   "metadata": {},
   "outputs": [],
   "source": [
    "import matplotlib.pyplot as plt\n",
    "import seaborn as sns\n",
    "\n",
    "# Set style for the visualizations\n",
    "sns.set(style=\"whitegrid\")"
   ]
  },
  {
   "cell_type": "code",
   "execution_count": 39,
   "id": "4b1e7ea9-ce3d-4c97-8586-97c5d6acf6b7",
   "metadata": {},
   "outputs": [
    {
     "data": {
      "image/png": "[encoded data removed]",
      "text/plain": [
       "<Figure size 1200x600 with 1 Axes>"
      ]
     },
     "metadata": {},
     "output_type": "display_data"
    }
   ],
   "source": [
    "# Set up the data for plotting\n",
    "continents = continent_df.select(\"Continent\").rdd.flatMap(lambda x: x).collect()\n",
    "avg_cases_per_million = continent_df.select(\"Avg Cases/1M pop\").rdd.flatMap(lambda x: x).collect()\n",
    "avg_deaths_per_million = continent_df.select(\"Avg Deaths/1M pop\").rdd.flatMap(lambda x: x).collect()\n",
    "avg_recoveries_per_million = continent_df.select(\"Avg Recoveries/1M pop\").rdd.flatMap(lambda x: x).collect()\n",
    "\n",
    "# Bar Chart for Cases, Deaths, and Recoveries per Million by Continent\n",
    "x = range(len(continents))\n",
    "plt.figure(figsize=(12, 6))\n",
    "plt.bar(x, avg_cases_per_million, width=0.25, label=\"Cases/1M pop\", color='blue', align='center')\n",
    "plt.bar([p + 0.25 for p in x], avg_deaths_per_million, width=0.25, label=\"Deaths/1M pop\", color='red', align='center')\n",
    "plt.bar([p + 0.5 for p in x], avg_recoveries_per_million, width=0.25, label=\"Recoveries/1M pop\", color='green', align='center')\n",
    "\n",
    "plt.xlabel('Continent')\n",
    "plt.ylabel('Count per Million')\n",
    "plt.title('COVID-19 Cases, Deaths, and Recoveries per Million by Continent')\n",
    "plt.xticks([p + 0.25 for p in x], continents)\n",
    "plt.legend()\n",
    "plt.show()"
   ]
  },
  {
   "cell_type": "code",
   "execution_count": 40,
   "id": "5bdf988d-251c-49f1-be1d-04c94268e355",
   "metadata": {},
   "outputs": [
    {
     "data": {
      "image/png": "[encoded data removed]",
      "text/plain": [
       "<Figure size 1000x600 with 1 Axes>"
      ]
     },
     "metadata": {},
     "output_type": "display_data"
    }
   ],
   "source": [
    "# Prepare data for Population vs Cases scatter plot\n",
    "avg_population = continent_df.select(\"Avg Population\").rdd.flatMap(lambda x: x).collect()\n",
    "\n",
    "plt.figure(figsize=(10, 6))\n",
    "sns.scatterplot(x=avg_population, y=avg_cases_per_million, hue=continents, s=100, palette=\"plasma\")\n",
    "plt.xlabel(\"Average Population\")\n",
    "plt.ylabel(\"Average Cases per Million\")\n",
    "plt.title(\"Population vs. Cases per Million by Continent\")\n",
    "plt.legend(title=\"Continent\")\n",
    "plt.show()"
   ]
  },
  {
   "cell_type": "code",
   "execution_count": 41,
   "id": "f9edc99d-8ea3-4f26-b927-ef86a93914a8",
   "metadata": {},
   "outputs": [
    {
     "data": {
      "image/png": "[encoded data removed]",
      "text/plain": [
       "<Figure size 1200x600 with 1 Axes>"
      ]
     },
     "metadata": {},
     "output_type": "display_data"
    }
   ],
   "source": [
    "# Extract data for Mortality and Recovery Rates\n",
    "mortality_rates = continent_df.select(\"Mortality Rate (%)\").rdd.flatMap(lambda x: x).collect()\n",
    "recovery_rates = continent_df.select(\"Recovery Rate (%)\").rdd.flatMap(lambda x: x).collect()\n",
    "\n",
    "x = range(len(continents))\n",
    "plt.figure(figsize=(12, 6))\n",
    "plt.bar(x, mortality_rates, width=0.4, label=\"Mortality Rate (%)\", color='salmon')\n",
    "plt.bar([p + 0.4 for p in x], recovery_rates, width=0.4, label=\"Recovery Rate (%)\", color='lightgreen')\n",
    "\n",
    "plt.xlabel('Continent')\n",
    "plt.ylabel('Percentage')\n",
    "plt.title('COVID-19 Mortality and Recovery Rates by Continent')\n",
    "plt.xticks([p + 0.2 for p in x], continents)\n",
    "plt.legend()\n",
    "plt.show()\n"
   ]
  }
 ],
 "metadata": {
  "kernelspec": {
   "display_name": "Python 3 (ipykernel)",
   "language": "python",
   "name": "python3"
  },
  "language_info": {
   "codemirror_mode": {
    "name": "ipython",
    "version": 3
   },
   "file_extension": ".py",
   "mimetype": "text/x-python",
   "name": "python",
   "nbconvert_exporter": "python",
   "pygments_lexer": "ipython3",
   "version": "3.10.11"
  }
 },
 "nbformat": 4,
 "nbformat_minor": 5
}
